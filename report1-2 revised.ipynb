{
 "cells": [
  {
   "cell_type": "code",
   "execution_count": 9,
   "id": "ae55ba0c",
   "metadata": {},
   "outputs": [
    {
     "data": {
      "text/plain": [
       "[<matplotlib.lines.Line2D at 0x177cac767f0>]"
      ]
     },
     "execution_count": 9,
     "metadata": {},
     "output_type": "execute_result"
    },
    {
     "data": {
      "image/png": "[encoded data removed]",
      "text/plain": [
       "<Figure size 432x288 with 1 Axes>"
      ]
     },
     "metadata": {
      "needs_background": "light"
     },
     "output_type": "display_data"
    }
   ],
   "source": [
    "import math \n",
    "import numpy as np\n",
    "%matplotlib inline\n",
    "import matplotlib.pyplot as plt\n",
    "def f(x,y,u,v):\n",
    "    xdot = u\n",
    "    ydot = v\n",
    "    udot = -x/(x**2+y**2)**(3/2)\n",
    "    vdot = -y/(x**2+y**2)**(3/2)\n",
    "    return np.array([xdot,ydot,udot,vdot])\n",
    "    \n",
    "t_end = 1000\n",
    "nstep = 100000\n",
    "h = t_end/nstep\n",
    "t = np.linspace(0.0,t_end,nstep+1)\n",
    "X = np.zeros((4,nstep+1))\n",
    "X[0,0] = 3.0\n",
    "X[1,0] = 0.0\n",
    "X[2,0] = 0.3\n",
    "X[3,0] = 0.2\n",
    "for i in range(nstep):\n",
    "    current = X[:,i]\n",
    "    x = current[0]\n",
    "    y = current[1]\n",
    "    u = current[2]\n",
    "    v = current[3] \n",
    "    k1 = h*f(x,y,u,v)\n",
    "    k2 = h*f(x+k1[0]/2,y+k1[1]/2,u+k1[2]/2,v+k1[3]/2)\n",
    "    k3 = h*f(x+k2[0]/2,y+k2[1]/2,u+k2[2]/2,v+k2[3]/2)\n",
    "    k4 = h*f(x+k3[0],y+k3[1],u+k3[2],v+k3[3])\n",
    "    for j in range(4):\n",
    "        X[j,i+1] =X[j,i]+k1[j]/6+k2[j]/3+k3[j]/3+k4[j]/6\n",
    "x = X[0,:]\n",
    "y = X[1,:]\n",
    "plt.plot(x,y)"
   ]
  },
  {
   "cell_type": "code",
   "execution_count": null,
   "id": "4cc4d53e",
   "metadata": {},
   "outputs": [],
   "source": []
  }
 ],
 "metadata": {
  "kernelspec": {
   "display_name": "Python 3",
   "language": "python",
   "name": "python3"
  },
  "language_info": {
   "codemirror_mode": {
    "name": "ipython",
    "version": 3
   },
   "file_extension": ".py",
   "mimetype": "text/x-python",
   "name": "python",
   "nbconvert_exporter": "python",
   "pygments_lexer": "ipython3",
   "version": "3.8.8"
  }
 },
 "nbformat": 4,
 "nbformat_minor": 5
}
